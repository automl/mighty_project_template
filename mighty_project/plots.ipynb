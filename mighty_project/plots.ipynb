{
 "cells": [
  {
   "cell_type": "code",
   "execution_count": null,
   "metadata": {},
   "outputs": [],
   "source": [
    "from __future__ import annotations\n",
    "\n",
    "import os\n",
    "from pathlib import Path\n",
    "\n",
    "import pandas as pd\n",
    "from plotting_utils import (\n",
    "    plot_final_performance_comparison,\n",
    "    plot_improvement_probability,\n",
    "    plot_performance_over_time,\n",
    ")"
   ]
  },
  {
   "cell_type": "code",
   "execution_count": null,
   "metadata": {},
   "outputs": [],
   "source": [
    "# Find experiment directories\n",
    "seeds = range(5)\n",
    "methods = [\n",
    "    \"ppo\"\n",
    "]\n",
    "benchmarks = [\"MiniGrid-Empty-5x5-v0\"]\n",
    "base_path = \"../runs\"\n",
    "experiment_directories = []\n",
    "\n",
    "for b in benchmarks:\n",
    "    for m in methods:\n",
    "        for s in seeds:\n",
    "            experiment_directories.append(\n",
    "                os.path.join(base_path, f\"{m}\", f\"{b}\", f\"seed_{s}\")\n",
    "            )"
   ]
  },
  {
   "cell_type": "code",
   "execution_count": null,
   "metadata": {},
   "outputs": [],
   "source": [
    "def load_data(experiment_dir):\n",
    "    path_strings = experiment_dir.split(\"/\")\n",
    "    method = path_strings[-3]\n",
    "    env = path_strings[-2]\n",
    "    seed = int(path_strings[-1].split(\"_\")[-1])\n",
    "\n",
    "    path = Path(experiment_dir)\n",
    "    results = pd.read_csv(path / \"results.csv\")\n",
    "    evals = pd.read_csv(path / \"eval_results.csv\")\n",
    "\n",
    "    results[\"method\"] = method\n",
    "    results[\"env\"] = env\n",
    "    results[\"seed\"] = seed\n",
    "    evals[\"method\"] = method\n",
    "    evals[\"env\"] = env\n",
    "    evals[\"seed\"] = seed\n",
    "    return results, evals"
   ]
  },
  {
   "cell_type": "code",
   "execution_count": null,
   "metadata": {},
   "outputs": [],
   "source": [
    "rs, es = [], []\n",
    "for experiment_dir in experiment_directories:\n",
    "    if not os.path.exists(experiment_dir):\n",
    "        print(f\"Experiment directory {experiment_dir} does not exist.\")\n",
    "        continue\n",
    "\n",
    "    results, evals = load_data(experiment_dir)\n",
    "    rs.append(results)\n",
    "    es.append(evals)\n",
    "\n",
    "# Concatenate all results and evals\n",
    "results = pd.concat(rs, ignore_index=True)\n",
    "evals = pd.concat(es, ignore_index=True)"
   ]
  },
  {
   "cell_type": "code",
   "execution_count": null,
   "metadata": {},
   "outputs": [],
   "source": [
    "train_rew_plot = plot_performance_over_time(\n",
    "    results,\n",
    "    x=\"step\",\n",
    "    y=\"mean_episode_reward\",\n",
    "    hue=\"method\",\n",
    "    aggregation=\"mean\",\n",
    "    logx=False,\n",
    "    xlabel=\"Env Step\",\n",
    "    ylabel=\"Mean Episode Reward\",\n",
    ")"
   ]
  },
  {
   "cell_type": "code",
   "execution_count": null,
   "metadata": {},
   "outputs": [],
   "source": [
    "eval_rew_plot = plot_performance_over_time(\n",
    "    evals,\n",
    "    x=\"step\",\n",
    "    y=\"mean_eval_reward\",\n",
    "    hue=\"method\",\n",
    "    aggregation=\"mean\",\n",
    "    logx=False,\n",
    "    xlabel=\"Env Step\",\n",
    "    ylabel=\"Mean Evaluation Reward\",\n",
    ")"
   ]
  },
  {
   "cell_type": "code",
   "execution_count": null,
   "metadata": {},
   "outputs": [],
   "source": [
    "final_perf_plot = plot_final_performance_comparison(\n",
    "    evals,\n",
    "    x=\"method\",\n",
    "    y=\"mean_eval_reward\",\n",
    "    aggregation=[\"mean\", \"median\", \"iqm\"],\n",
    "    xlabel=\"Performance\",\n",
    ")"
   ]
  },
  {
   "cell_type": "code",
   "execution_count": null,
   "metadata": {},
   "outputs": [],
   "source": [
    "imp_prob_plot = plot_improvement_probability(evals, x=\"method\", y=\"mean_eval_reward\")"
   ]
  }
 ],
 "metadata": {
  "kernelspec": {
   "display_name": "importances",
   "language": "python",
   "name": "python3"
  },
  "language_info": {
   "codemirror_mode": {
    "name": "ipython",
    "version": 3
   },
   "file_extension": ".py",
   "mimetype": "text/x-python",
   "name": "python",
   "nbconvert_exporter": "python",
   "pygments_lexer": "ipython3",
   "version": "3.10.15"
  }
 },
 "nbformat": 4,
 "nbformat_minor": 2
}
